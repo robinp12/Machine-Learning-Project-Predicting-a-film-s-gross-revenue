{
  "cells": [
    {
      "cell_type": "markdown",
      "metadata": {
        "id": "PPQ-V5gypUhp"
      },
      "source": [
        "## Import datas"
      ]
    },
    {
      "cell_type": "code",
      "execution_count": 3,
      "metadata": {
        "id": "EcJ5uOstpUhs"
      },
      "outputs": [],
      "source": [
        "import pandas as pd\n",
        "from sklearn.model_selection import train_test_split, learning_curve, GridSearchCV, cross_val_score, RandomizedSearchCV\n",
        "from sklearn.feature_selection import mutual_info_regression\n",
        "from sklearn.linear_model import LinearRegression\n",
        "from sklearn.decomposition import PCA\n",
        "from sklearn.neighbors import KNeighborsRegressor\n",
        "from sklearn.ensemble import RandomForestRegressor\n",
        "from sklearn.metrics import mean_squared_error, make_scorer\n",
        "from scipy import stats\n",
        "\n",
        "import matplotlib.pyplot as plt\n",
        "import numpy as np\n",
        "import seaborn as sns\n",
        "import warnings\n",
        "warnings.simplefilter(\"ignore\")"
      ]
    },
    {
      "cell_type": "code",
      "execution_count": 4,
      "metadata": {
        "id": "AhsvRFo0pUhu"
      },
      "outputs": [],
      "source": [
        "# Use pandas to loadinto a DataFrame\n",
        "# Y1.csv doesn’t have a header so\n",
        "# add one when loading the file\n",
        "X1 = pd.read_csv(\"data/X1.csv\")\n",
        "Y1 = pd.read_csv(\"data/Y1.csv\", header=None, names=['revenue'])\n",
        "\n",
        "\n",
        "# ENLEVER colonne \"Unnamed\" du dataset : utilité ? -> Pas listé dans les features du pdf\n",
        "X = X1.drop(['Unnamed: 0', 'img_url', 'description'], axis=1)"
      ]
    },
    {
      "cell_type": "markdown",
      "metadata": {
        "id": "WhlqrDoSpUhv"
      },
      "source": [
        "### Pre data visualisation"
      ]
    },
    {
      "cell_type": "code",
      "execution_count": 5,
      "metadata": {
        "id": "GhjHfT_xpUhv",
        "colab": {
          "base_uri": "https://localhost:8080/",
          "height": 36
        },
        "outputId": "f0c6823c-874c-4d96-c2b9-b81a36efa58b"
      },
      "outputs": [
        {
          "output_type": "execute_result",
          "data": {
            "text/plain": [
              "'\\nprint(X.describe())\\n\\nplt.figure(figsize=(7,4))\\ncorr = X.corr(numeric_only=True)\\nheatmap = sns.heatmap(corr, annot=True, cmap=\"coolwarm\", fmt=\\'.1g\\')\\n'"
            ],
            "application/vnd.google.colaboratory.intrinsic+json": {
              "type": "string"
            }
          },
          "metadata": {},
          "execution_count": 5
        }
      ],
      "source": [
        "\"\"\"\n",
        "print(X.describe())\n",
        "\n",
        "plt.figure(figsize=(7,4))\n",
        "corr = X.corr(numeric_only=True)\n",
        "heatmap = sns.heatmap(corr, annot=True, cmap=\"coolwarm\", fmt='.1g')\n",
        "\"\"\""
      ]
    },
    {
      "cell_type": "markdown",
      "metadata": {
        "id": "bl3yWOPPpUhw"
      },
      "source": [
        "## Preprocessing the data\n",
        "### Preprocessing functions"
      ]
    },
    {
      "cell_type": "code",
      "execution_count": 6,
      "metadata": {
        "id": "TNdqOum4pUhw"
      },
      "outputs": [],
      "source": [
        "\"\"\"\n",
        "Creating empty DataFrame to start\n",
        "\"\"\"\n",
        "n_samples = X.shape[0]\n",
        "data = pd.DataFrame()"
      ]
    },
    {
      "cell_type": "code",
      "execution_count": 7,
      "metadata": {
        "id": "Ce4OZO08pUhw"
      },
      "outputs": [],
      "source": [
        "\"\"\"\n",
        "Keeping the directly usable features\n",
        "\"\"\"\n",
        "def get_directrly_usable_features(df):\n",
        "    directly_usable_features = [\"ratings\", \"n_votes\", \"is_adult\"]\n",
        "    for feature in directly_usable_features:\n",
        "        df[feature] = X[feature]\n",
        "\n",
        "    df[\"normalized_ratings\"] = (X[\"n_votes\"] - X[\"n_votes\"].min()) / (X[\"n_votes\"].max() - X[\"n_votes\"].min())\n",
        "    return df"
      ]
    },
    {
      "cell_type": "markdown",
      "metadata": {
        "id": "9EwP4m7C3H3V"
      },
      "source": []
    },
    {
      "cell_type": "code",
      "execution_count": 8,
      "metadata": {
        "id": "0YGTbsy5pUhw",
        "scrolled": false
      },
      "outputs": [],
      "source": [
        "\"\"\"\n",
        "Dealing with the \"production_year\" feature\n",
        "\"\"\"\n",
        "\n",
        "def get_prod_year_feature(df, params):\n",
        "    \n",
        "    style = params[\"production_year_style\"] # \"per_quantile\" / \"per_period_length\" / \"no_period\"\n",
        "    if style != \"no_period\" :\n",
        "        n_year_period = params[\"n_year_period\"]\n",
        "\n",
        "    # Removing previously computed categorie(s) for the \"production_year\" initial feature\n",
        "\n",
        "    for feature in df.columns:\n",
        "        if len(feature) >= 8 and (feature[:6] == \"period\" or feature == \"production_year\"):\n",
        "            df.drop(feature, axis=1, inplace=True)\n",
        "\n",
        "    # Creating new categorie(s) for the \"production_year\" initial feature\n",
        "\n",
        "    prod_year = X[\"production_year\"].copy()\n",
        "    if style == \"per_quantile\" or style == \"per_period_length\":\n",
        "        categories = np.ones((n_year_period, n_samples))\n",
        "\n",
        "        if style == \"per_quantile\":\n",
        "            thresholds = prod_year.quantile(np.arange(1, n_year_period) / n_year_period)\n",
        "        else :\n",
        "            thresholds = np.min(prod_year) + (np.max(prod_year) - np.min(prod_year))*np.arange(1, n_year_period)/n_year_period\n",
        "        for i, threshold in enumerate(thresholds):\n",
        "            categories[i+1] = (prod_year >= threshold).astype(int)\n",
        "            categories[i] -= categories[i+1]\n",
        "        for period in range(n_year_period):\n",
        "            df[\"period {}\".format(period)] = categories[period]\n",
        "    elif style == \"no_period\":\n",
        "        df[\"production_year\"] = prod_year\n",
        "    return df"
      ]
    },
    {
      "cell_type": "code",
      "execution_count": 9,
      "metadata": {
        "id": "izRYAX6LpUhx"
      },
      "outputs": [],
      "source": [
        "\"\"\"\n",
        "Dealing with the \"runtime\" feature\n",
        "\n",
        "The problem is here that we have some missing values, we have to deal with it.\n",
        "\"\"\"\n",
        "\n",
        "def get_runtime_feature(df, params):\n",
        "\n",
        "    # Add other smarter ways ?\n",
        "    \n",
        "    replace_type = params[\"runtime_replace_type\"] # \"zero\" / \"mean\"\n",
        "    \n",
        "    runtime = X[\"runtime\"].copy()\n",
        "    if replace_type == \"zero\":\n",
        "        runtime[runtime == \"\\\\N\"] = 0\n",
        "    if replace_type == \"mean\":\n",
        "        mean = np.mean(runtime[runtime != \"\\\\N\"].astype(float))\n",
        "        runtime[runtime == \"\\\\N\"] = mean\n",
        "    if replace_type == \"median\":\n",
        "        median = np.median(runtime[runtime != \"\\\\N\"].astype(float))\n",
        "        runtime[runtime == \"\\\\N\"] = median\n",
        "    df[\"runtime\"] = runtime.astype(float)    \n",
        "    return df"
      ]
    },
    {
      "cell_type": "code",
      "execution_count": 10,
      "metadata": {
        "id": "8xuppfx9pUhy"
      },
      "outputs": [],
      "source": [
        "import copy\n",
        "\"\"\"\n",
        "Dealing with the \"studio\" feature\n",
        "\n",
        "\n",
        "Juste rajouter toute les features une par une me semblait un peu lourd (yen a 509), ducoup j'effectue PCA dessus.\n",
        "Jsp si ça se fait ? (on peut changer l'algo de dimensionality reduction aussi si on veut)\n",
        "\"\"\"\n",
        "\n",
        "def get_studio_feature(df, params):\n",
        "    use_PCA = params[\"studio_use_PCA\"]\n",
        "    if use_PCA :\n",
        "        dim = params[\"studio_PCA_dim\"]\n",
        "\n",
        "    # Removing previously computed categorie(s) for the \"studio\" initial feature\n",
        "    for feature in df.columns:\n",
        "        if len(feature) >= 10 and feature[:10] == \"studio_PC_\":\n",
        "            df.drop(feature, axis=1, inplace=True)\n",
        "\n",
        "    # Creating new categorie(s) for the \"studio\" initial feature\n",
        "    studio = copy.deepcopy(X[\"studio\"])\n",
        "    studio_labels = np.unique(studio)\n",
        "    studio_features = np.zeros((len(studio_labels), n_samples))\n",
        "    for i, label in enumerate(studio_labels) :\n",
        "        studio_features[i] = (studio == label).astype(int)\n",
        "    \n",
        "    # Applying pca or not\n",
        "    if use_PCA :\n",
        "        pca = PCA(n_components=dim)\n",
        "        out = pca.fit_transform(studio_features.T)\n",
        "    else :\n",
        "        normals = studio_features[np.count_nonzero(studio_features, axis=1) > 5].T\n",
        "        outliers = np.sum(studio_features[np.count_nonzero(studio_features, axis=1) <= 5].T, axis = 1)\n",
        "        out = np.zeros((normals.shape[0], normals.shape[1] + 1))\n",
        "        out[:, :-1] = normals\n",
        "        out[:, -1] = outliers\n",
        "        dim = out.shape[1]\n",
        "    \n",
        "    df[[\"studio_PC_{}\".format(i) for i in range(dim)]] = out\n",
        "    return df\n",
        "\n",
        "# Ya plein de warnings quand dim trop grand ou pas de PCA /: \n",
        "# jsp comment regler ça... en utilisant pd.concat ça tourne vraiment extrêmement lentement"
      ]
    },
    {
      "cell_type": "code",
      "execution_count": 11,
      "metadata": {
        "id": "mqsGYb9ApUhz"
      },
      "outputs": [],
      "source": [
        "\"\"\"\n",
        "Dealing with the \"genres\" feature\n",
        "\n",
        "Je rajoute juste une feature par genre, j'espère ça suffit ? -> pt-être dimension reduction sur ça aussi ?\n",
        "Certains films ont pas de genre attitré (genre = \"\\\\N\"),\n",
        "ce que j'ai fait ici considère ça comme un genre à part entière, ptet on peut deal le truc autrement ?\n",
        "\"\"\"\n",
        "\n",
        "def get_genre_feature(df):\n",
        "\n",
        "    X.loc[X[\"genres\"] == \"\\\\N\", \"genres\"] = \"Others\"\n",
        "    all_genres = X[\"genres\"].copy()\n",
        "    diff_genres = []\n",
        "\n",
        "    for genres in np.unique(all_genres):\n",
        "        for genre in genres.split(\",\") :\n",
        "            if not genre in diff_genres :\n",
        "                diff_genres.append(genre)\n",
        "\n",
        "    for genre in diff_genres:\n",
        "        df[genre] = [1 if genre in genres.split(\",\") else 0 for genres in all_genres]  \n",
        "    return df"
      ]
    },
    {
      "cell_type": "code",
      "execution_count": 12,
      "metadata": {
        "id": "4APQi5pKpUhz"
      },
      "outputs": [],
      "source": [
        "\"\"\"\n",
        "Dealing with the \"text_embeddings\" feature\n",
        "\n",
        "\n",
        "Dimension of embedding space is too high -> dimensionnality reduction\n",
        "J'utilise que PCA pr l'instant ici aussi\n",
        "\"\"\"\n",
        "def get_text_embedding_feature(df, params):\n",
        "    \n",
        "    output_dim = params[\"text_embedding_PCA_dim\"] # output dimension of PCA\n",
        "\n",
        "    # Removing previously computed categorie(s) for the \"text_embedding\" initial feature\n",
        "    for feature in df.columns:\n",
        "        if len(feature) >= 18 and feature[:18] == \"text_embedding_PC_\":\n",
        "            df.drop(feature, axis=1, inplace=True)\n",
        "\n",
        "    # Creating new categorie(s) for the \"text_embedding\" initial feature\n",
        "    text_embeddings = X[\"text_embeddings\"]\n",
        "    input_dim = 768\n",
        "    embeddings = np.zeros((n_samples, input_dim))\n",
        "    for i, text_embedding in enumerate(text_embeddings):\n",
        "        embeddings[i] = list(map(float,text_embedding[1:-1].split(\",\")))\n",
        "\n",
        "    # applying PCA\n",
        "    pca = PCA(n_components=output_dim)\n",
        "    output = pca.fit_transform(embeddings)\n",
        "\n",
        "    df[[\"text_embedding_PC_{}\".format(i) for i in range(output_dim)]] = output\n",
        "    return df"
      ]
    },
    {
      "cell_type": "code",
      "execution_count": 13,
      "metadata": {
        "id": "Lrg6Ft1zpUh0"
      },
      "outputs": [],
      "source": [
        "\"\"\"\n",
        "Dealing with the \"img_embeddings\" feature\n",
        "\n",
        "\n",
        "Dimension of embedding space is too high -> dimensionnality reduction\n",
        "J'utilise que PCA pr l'instant ici aussi\n",
        "\"\"\"\n",
        "def get_img_embedding_feature(df, params):\n",
        "    output_dim = params[\"img_embedding_PCA_dim\"] # output dimension of PCA\n",
        "\n",
        "    # Removing previously computed categorie(s) for the \"img_embedding\" initial feature\n",
        "    for feature in df.columns:\n",
        "        if len(feature) >= 17 and feature[:17] == \"img_embedding_PC_\":\n",
        "            df.drop(feature, axis=1, inplace=True)\n",
        "\n",
        "    # Creating new categorie(s) for the \"img_embedding\" initial feature\n",
        "    img_embeddings = X[\"img_embeddings\"]\n",
        "    input_dim = 2048\n",
        "    embeddings = np.zeros((n_samples, input_dim))\n",
        "    for i, img_embedding in enumerate(img_embeddings):\n",
        "        embeddings[i] = list(map(float,img_embedding[1:-1].split(\",\")))\n",
        "\n",
        "    # applying PCA\n",
        "    pca = PCA(n_components=output_dim)\n",
        "    output = pca.fit_transform(embeddings)\n",
        "\n",
        "    df[[\"img_embedding_PC_{}\".format(i) for i in range(output_dim)]] = output\n",
        "    return df"
      ]
    },
    {
      "cell_type": "code",
      "execution_count": 14,
      "metadata": {
        "id": "a0DOzTyBpUh0"
      },
      "outputs": [],
      "source": [
        "def create_preprocessed(params):\n",
        "    df = pd.DataFrame()\n",
        "    df = get_genre_feature(df)\n",
        "    df = get_directrly_usable_features(df)\n",
        "    df = get_prod_year_feature(df, params)\n",
        "    df = get_studio_feature(df, params)\n",
        "    df = get_runtime_feature(df, params)\n",
        "    df = get_text_embedding_feature(df, params)\n",
        "    df = get_img_embedding_feature(df, params)\n",
        "    return df"
      ]
    },
    {
      "cell_type": "code",
      "execution_count": 15,
      "metadata": {
        "id": "bzhpiUa1pUh1"
      },
      "outputs": [],
      "source": [
        "def create_preprocessed_dict(params):\n",
        "    final = {}\n",
        "    year_dict = {}\n",
        "    for val1 in params[\"production_year_style\"] :\n",
        "        for val2 in params[\"n_year_period\"] :\n",
        "            tmp = {}\n",
        "            tmp[\"production_year_style\"] = val1\n",
        "            tmp[\"n_year_period\"] = val2\n",
        "            year_dict[val1+str(val2)] = get_prod_year_feature(pd.DataFrame(), tmp)\n",
        "    final[\"year\"] = year_dict\n",
        "    \n",
        "    studio_dict = {}\n",
        "    for val1 in params[\"studio_use_PCA\"] :\n",
        "        for val2 in params[\"studio_PCA_dim\"] :\n",
        "            tmp = {}\n",
        "            tmp[\"studio_use_PCA\"] = val1\n",
        "            tmp[\"studio_PCA_dim\"] = val2\n",
        "            studio_dict[str(val1)+str(val2)] = get_studio_feature(pd.DataFrame(), tmp)\n",
        "    final[\"studio\"] = studio_dict\n",
        "    \n",
        "    runtime_dict = {}\n",
        "    for val in params[\"runtime_replace_type\"] :\n",
        "        tmp = {}\n",
        "        tmp[\"runtime_replace_type\"] = val\n",
        "        runtime_dict[val] = get_runtime_feature(pd.DataFrame(), tmp)\n",
        "    final[\"runtime\"] = runtime_dict\n",
        "    \n",
        "    text_dict = {}\n",
        "    for val in params[\"text_embedding_PCA_dim\"] :\n",
        "        tmp = {}\n",
        "        tmp[\"text_embedding_PCA_dim\"] = val\n",
        "        text_dict[val] = get_text_embedding_feature(pd.DataFrame(), tmp)\n",
        "    final[\"text\"] = text_dict\n",
        "    \n",
        "    img_dict = {}\n",
        "    for val in params[\"img_embedding_PCA_dim\"] :\n",
        "        tmp = {}\n",
        "        tmp[\"img_embedding_PCA_dim\"] = val\n",
        "        img_dict[val] = get_img_embedding_feature(pd.DataFrame(), tmp)\n",
        "    final[\"img\"] = img_dict   \n",
        "    final[\"genre\"] = get_genre_feature(pd.DataFrame())\n",
        "    final[\"base\"] = get_directrly_usable_features(pd.DataFrame())\n",
        "    return final"
      ]
    },
    {
      "cell_type": "code",
      "execution_count": 16,
      "metadata": {
        "id": "kUl_tHK0pUh1"
      },
      "outputs": [],
      "source": [
        "def create_preprocessed_from_dict(params_dict, params):\n",
        "    frames = []\n",
        "    frames.append(params_dict[\"genre\"])\n",
        "    frames.append(params_dict[\"base\"])\n",
        "    frames.append(params_dict[\"year\"][params[\"production_year_style\"] + str(params[\"n_year_period\"])])\n",
        "    frames.append(params_dict[\"studio\"][str(params[\"studio_use_PCA\"]) + str(params[\"studio_PCA_dim\"])])\n",
        "    frames.append(params_dict[\"runtime\"][params[\"runtime_replace_type\"]])\n",
        "    frames.append(params_dict[\"text\"][params[\"text_embedding_PCA_dim\"]])\n",
        "    frames.append(params_dict[\"img\"][params[\"img_embedding_PCA_dim\"]])\n",
        "    return pd.concat(frames, axis=1)"
      ]
    },
    {
      "cell_type": "markdown",
      "metadata": {
        "id": "Wzu12HJOpUh2"
      },
      "source": [
        "### Preprocessing execution"
      ]
    },
    {
      "cell_type": "code",
      "execution_count": 17,
      "metadata": {
        "id": "L6CQd5jzpUh2"
      },
      "outputs": [],
      "source": [
        "\"\"\"\n",
        "Example of data preprocessing\n",
        "\"\"\"\n",
        "\n",
        "params = {\n",
        "    \"production_year_style\" : \"per_quantile\", # \"per_quantile\" / \"per_period_length\" / \"no_period\"\n",
        "    \"n_year_period\" : 5,\n",
        "    \"runtime_replace_type\" : \"mean\", # \"mean\" / \"zero\" / \"median\"\n",
        "    \"studio_use_PCA\" : True,\n",
        "    \"studio_PCA_dim\" : 50,\n",
        "    \"text_embedding_PCA_dim\" : 50,\n",
        "    \"img_embedding_PCA_dim\" : 50\n",
        "}\n",
        "\n",
        "preprocessed_data = create_preprocessed(params)"
      ]
    },
    {
      "cell_type": "code",
      "execution_count": 18,
      "metadata": {
        "id": "uAyDWmdupUh3",
        "colab": {
          "base_uri": "https://localhost:8080/",
          "height": 88
        },
        "outputId": "304e1d14-5ad7-487c-e0a0-5c3b3c079a11"
      },
      "outputs": [
        {
          "output_type": "execute_result",
          "data": {
            "text/plain": [
              "'\\nall_params = {\\n    \"production_year_style\" : [\"per_quantile\", \"per_period_length\", \"no_period\"], # \"per_quantile\" / \"per_period_length\" / \"no_period\"\\n    \"n_year_period\" : [3, 5, 10],\\n    \"runtime_replace_type\" : [\"mean\", \"zero\"], # \"mean\" / \"zero\" / \"median\"\\n    \"studio_use_PCA\" : [True],\\n    \"studio_PCA_dim\" : [1, 10],\\n    \"text_embedding_PCA_dim\" : [1, 10],\\n    \"img_embedding_PCA_dim\" : [1, 10]\\n}\\n\\nparams = {\\n    \"production_year_style\" : \"per_quantile\", # \"per_quantile\" / \"per_period_length\" / \"no_period\"\\n    \"n_year_period\" : 5,\\n    \"runtime_replace_type\" : \"mean\", # \"mean\" / \"zero\"\\n    \"studio_use_PCA\" : True,\\n    \"studio_PCA_dim\" : 1,\\n    \"text_embedding_PCA_dim\" : 10,\\n    \"img_embedding_PCA_dim\" : 10\\n}\\n\\npreprocessed_dict = create_preprocessed_dict(all_params)\\npreprocessed_data = create_preprocessed_from_dict(preprocessed_dict, params)\\npreprocessed_data_2 = create_preprocessed(params)\\n'"
            ],
            "application/vnd.google.colaboratory.intrinsic+json": {
              "type": "string"
            }
          },
          "metadata": {},
          "execution_count": 18
        }
      ],
      "source": [
        "\"\"\"\n",
        "all_params = {\n",
        "    \"production_year_style\" : [\"per_quantile\", \"per_period_length\", \"no_period\"], # \"per_quantile\" / \"per_period_length\" / \"no_period\"\n",
        "    \"n_year_period\" : [3, 5, 10],\n",
        "    \"runtime_replace_type\" : [\"mean\", \"zero\"], # \"mean\" / \"zero\" / \"median\"\n",
        "    \"studio_use_PCA\" : [True],\n",
        "    \"studio_PCA_dim\" : [1, 10],\n",
        "    \"text_embedding_PCA_dim\" : [1, 10],\n",
        "    \"img_embedding_PCA_dim\" : [1, 10]\n",
        "}\n",
        "\n",
        "params = {\n",
        "    \"production_year_style\" : \"per_quantile\", # \"per_quantile\" / \"per_period_length\" / \"no_period\"\n",
        "    \"n_year_period\" : 5,\n",
        "    \"runtime_replace_type\" : \"mean\", # \"mean\" / \"zero\"\n",
        "    \"studio_use_PCA\" : True,\n",
        "    \"studio_PCA_dim\" : 1,\n",
        "    \"text_embedding_PCA_dim\" : 10,\n",
        "    \"img_embedding_PCA_dim\" : 10\n",
        "}\n",
        "\n",
        "preprocessed_dict = create_preprocessed_dict(all_params)\n",
        "preprocessed_data = create_preprocessed_from_dict(preprocessed_dict, params)\n",
        "preprocessed_data_2 = create_preprocessed(params)\n",
        "\"\"\""
      ]
    },
    {
      "cell_type": "code",
      "execution_count": 19,
      "metadata": {
        "id": "OoIB-BycpUh4"
      },
      "outputs": [],
      "source": [
        "# preprocessed_data.head()"
      ]
    },
    {
      "cell_type": "code",
      "execution_count": 20,
      "metadata": {
        "id": "vZeeGjnQpUh4"
      },
      "outputs": [],
      "source": [
        "# preprocessed_data_2.head()"
      ]
    },
    {
      "cell_type": "markdown",
      "metadata": {
        "id": "PHiFHOO6pUh4"
      },
      "source": [
        "### Data visualisation"
      ]
    },
    {
      "cell_type": "code",
      "execution_count": 21,
      "metadata": {
        "id": "filTNaiOpUh5",
        "colab": {
          "base_uri": "https://localhost:8080/",
          "height": 36
        },
        "outputId": "0c6ec068-98ca-455b-84c5-0b4b59e38402"
      },
      "outputs": [
        {
          "output_type": "execute_result",
          "data": {
            "text/plain": [
              "'\\nplt.figure(figsize=(12,8))\\ncorr = preprocessed_data.corr()\\n\\nheatmap = sns.heatmap(corr, cmap=\"coolwarm\"\\n'"
            ],
            "application/vnd.google.colaboratory.intrinsic+json": {
              "type": "string"
            }
          },
          "metadata": {},
          "execution_count": 21
        }
      ],
      "source": [
        "\"\"\"\n",
        "plt.figure(figsize=(12,8))\n",
        "corr = preprocessed_data.corr()\n",
        "\n",
        "heatmap = sns.heatmap(corr, cmap=\"coolwarm\"\n",
        "\"\"\""
      ]
    },
    {
      "cell_type": "markdown",
      "metadata": {
        "id": "VvaQgGkDpUh5"
      },
      "source": [
        "### Feature Selection\n"
      ]
    },
    {
      "cell_type": "code",
      "execution_count": 22,
      "metadata": {
        "id": "nYz1_ruOpUh5"
      },
      "outputs": [],
      "source": [
        "# Creer un data training/validation splités a partir du X1 (on garde X2 pour les vrais tests) \n",
        "X_train, X_test, y_train, y_test = train_test_split(preprocessed_data, Y1, test_size = 0.2, random_state=0)"
      ]
    },
    {
      "cell_type": "code",
      "execution_count": 23,
      "metadata": {
        "id": "XJBIIkxRpUh5"
      },
      "outputs": [],
      "source": [
        "# Score computation : Root Mean Square Error\n",
        "\n",
        "def compute_rmse(predict, target):\n",
        "    return -mean_squared_error(predict, target, squared=False)\n",
        "\n",
        "def compute_rmse2(predict, target):\n",
        "    if len(target.shape) == 2:\n",
        "        target = target.squeeze()\n",
        "    if len(predict.shape) == 2:\n",
        "        predict = predict.squeeze()\n",
        "    diff = target - predict\n",
        "    if len(diff.shape) == 1:\n",
        "        diff = np.expand_dims(diff, axis=-1)\n",
        "    rmse = np.sqrt(diff.T@diff / diff.shape[0])\n",
        "    return float(rmse)\n",
        "\n",
        "custom_scorer = make_scorer(compute_rmse)"
      ]
    },
    {
      "cell_type": "code",
      "execution_count": 24,
      "metadata": {
        "id": "sZs7SNtApUh6"
      },
      "outputs": [],
      "source": [
        "def perform_rand_search(model_, params, scoring, X_train, y_train):\n",
        "    grid = RandomizedSearchCV(model_, params, cv=5, scoring=scoring, n_jobs=-1)\n",
        "    grid.fit(X_train,y_train)\n",
        "    print(\"grid.best_score_: \", grid.best_score_)\n",
        "    print(\"grid.best_params_: \",grid.best_params_)\n",
        "    return grid\n",
        " "
      ]
    },
    {
      "cell_type": "code",
      "execution_count": 25,
      "metadata": {
        "id": "TSg1clavpUh6"
      },
      "outputs": [],
      "source": [
        "def perform_grid_search(model_, params, scoring, X_train, y_train):\n",
        "\n",
        "    grid = GridSearchCV(model_, params, cv=5, scoring=scoring, n_jobs=-1)\n",
        "    grid.fit(X_train,y_train)\n",
        "    print(\"grid.best_score_: \", grid.best_score_)\n",
        "    print(\"grid.best_params_: \",grid.best_params_)\n",
        "    return grid\n",
        " "
      ]
    },
    {
      "cell_type": "code",
      "execution_count": 26,
      "metadata": {
        "id": "ARFzUQaOpUh6"
      },
      "outputs": [],
      "source": [
        "scores = mutual_info_regression(X_train, np.ravel(y_train))"
      ]
    },
    {
      "cell_type": "markdown",
      "metadata": {
        "id": "gmVfJDSIpUh6"
      },
      "source": [
        "### Linear Regression"
      ]
    },
    {
      "cell_type": "code",
      "execution_count": 27,
      "metadata": {
        "id": "NoDVBuslpUh7",
        "colab": {
          "base_uri": "https://localhost:8080/"
        },
        "outputId": "1f11f374-a742-4132-80ea-34bd71bee9fd"
      },
      "outputs": [
        {
          "output_type": "stream",
          "name": "stdout",
          "text": [
            "RMSE Score: -53069175.74$\n",
            "Score: 0.47%\n",
            "\n",
            "CV RMSE Score : -57023226.95$\n",
            "CV Score : 0.39%\n"
          ]
        }
      ],
      "source": [
        "model = LinearRegression(n_jobs=-1)\n",
        "model.fit(X_train, y_train)\n",
        "model.predict(X_test)\n",
        "\n",
        "# Évaluez le modèle en utilisant le scoreur personnalisé\n",
        "score = custom_scorer(model, X_test, y_test)\n",
        "print(\"RMSE Score: %.2f$\" % score)\n",
        "print(\"Score: %.2f%%\" %model.score(X_test, y_test))\n",
        "\n",
        "# Évaluez le modèle en utilisant le cross_val\n",
        "rmse_score = cross_val_score(LinearRegression(), preprocessed_data, Y1.values.ravel(), cv=5, scoring=custom_scorer)\n",
        "linear_regressor_score = cross_val_score(LinearRegression(), preprocessed_data, Y1.values.ravel(), cv=5)\n",
        "print(\"\\nCV RMSE Score : %.2f$\" % np.mean(rmse_score))\n",
        "print(\"CV Score : %.2f%%\" % np.mean(linear_regressor_score))"
      ]
    },
    {
      "cell_type": "code",
      "execution_count": 65,
      "metadata": {
        "colab": {
          "base_uri": "https://localhost:8080/"
        },
        "id": "6kRdsahtpUh7",
        "outputId": "7a0b47eb-9bcf-4879-94e5-3f38b1cece1a"
      },
      "outputs": [
        {
          "output_type": "stream",
          "name": "stdout",
          "text": [
            "INITIALISATION ENDED : initial score of -5.65e+07 $\n",
            "SOLUTION UPGRADED : new score of -5.63e+07 $\n",
            "SOLUTION UPGRADED : new score of -5.63e+07 $\n",
            "SOLUTION UPGRADED : new score of -5.62e+07 $\n",
            "SOLUTION UPGRADED : new score of -5.62e+07 $\n",
            "SOLUTION UPGRADED : new score of -5.59e+07 $\n",
            "SOLUTION UPGRADED : new score of -5.59e+07 $\n"
          ]
        }
      ],
      "source": [
        "import copy\n",
        "from sklearn.neural_network import MLPRegressor\n",
        "from sklearn.linear_model import LinearRegression, Ridge, Lasso, ElasticNet\n",
        "from sklearn.svm import SVR\n",
        "from sklearn.tree import DecisionTreeRegressor\n",
        "from sklearn.ensemble import RandomForestRegressor, GradientBoostingRegressor\n",
        "from sklearn.model_selection import RandomizedSearchCV\n",
        "\n",
        "\n",
        "\n",
        "class Solution:\n",
        "    def __init__(self, params, grid_params, score):\n",
        "        self.grid_params = grid_params\n",
        "        self.params = params\n",
        "        self.score = score\n",
        "\n",
        "class LocalSearch :\n",
        "    \n",
        "    def __init__(self, regressor, params, grid_params):\n",
        "        self.curr_score = []\n",
        "        self.best_score = []\n",
        "        self.regressor = regressor\n",
        "        self.params = params\n",
        "        self.preprocessed_dict = create_preprocessed_dict(params)\n",
        "        self.grid_params = grid_params\n",
        "        self.visited = []\n",
        "\n",
        "    \n",
        "    def clean(self, params):\n",
        "        copied = copy.deepcopy(params)\n",
        "        if copied[\"production_year_style\"] == \"no_period\":\n",
        "            copied.pop(\"n_year_period\")\n",
        "        if copied[\"studio_use_PCA\"] == False:\n",
        "            copied.pop(\"studio_PCA_dim\")\n",
        "        return copied\n",
        "    \n",
        "    def is_visited(self, params):\n",
        "        return str(self.clean(params)) in self.visited\n",
        "    \n",
        "    def visit(self, params):\n",
        "        self.visited.append(str(self.clean(params)))\n",
        "    \n",
        "    def get_solution(self, params):\n",
        "        preprocessed_data = copy.deepcopy(create_preprocessed_from_dict(self.preprocessed_dict, params))\n",
        "        grid_search = RandomizedSearchCV(regressor, self.grid_params, cv=5, scoring=custom_scorer, n_jobs=-1, random_state=0)\n",
        "        grid_search.fit(preprocessed_data, Y1)\n",
        "        current_score = np.mean(grid_search.best_score_)\n",
        "        self.visit(params)\n",
        "        return Solution(params, grid_search.best_params_, current_score)\n",
        "    \n",
        "    def initiate(self):\n",
        "        current_params = {}\n",
        "        for param in self.params.keys():\n",
        "            current_params[param] = np.random.choice(self.params[param])\n",
        "        self.current_solution = self.get_solution(current_params)\n",
        "        self.best_solution = copy.deepcopy(self.current_solution)\n",
        "    \n",
        "    def transitions(self):\n",
        "        neighbors = []\n",
        "        current_params = self.current_solution.params\n",
        "        for param in self.params.keys():\n",
        "            copied = copy.deepcopy(self.params[param])\n",
        "            np.random.shuffle(copied)\n",
        "            for value in copied:\n",
        "                new_params = copy.deepcopy(current_params)\n",
        "                new_params[param] = value\n",
        "                if not self.is_visited(new_params):\n",
        "                    neighbors.append(new_params)\n",
        "                    break\n",
        "        return neighbors\n",
        "    \n",
        "    def choose(self, neighbors, n):\n",
        "        if len(neighbors) <= n :\n",
        "            return neighbors\n",
        "        return np.random.choice(neighbors, size=n, replace = False)\n",
        "    \n",
        "    def get_difference(self, other):\n",
        "        first = self.current_solution.params\n",
        "        for param in first.keys():\n",
        "            if first[param] != other[param]:\n",
        "                return param, first[param], other[param]\n",
        "        return None\n",
        "    \n",
        "    def compute(self):\n",
        "        self.initiate()\n",
        "        print(\"INITIALISATION ENDED : initial score of {:.2e} $\".format(self.best_solution.score))\n",
        "        no_upgrade = 0;\n",
        "        while no_upgrade <= 20:\n",
        "            neighbors = self.transitions()\n",
        "            if len(neighbors) == 0:\n",
        "                break\n",
        "            neighbors = self.choose(neighbors, 5)\n",
        "            curr_best_sol = Solution(None, None, -float(\"inf\"))\n",
        "            for neighbor in neighbors :\n",
        "                solution = self.get_solution(neighbor)\n",
        "                if solution.score > curr_best_sol.score :\n",
        "                    curr_best_sol = solution\n",
        "                diff = self.get_difference(neighbor)\n",
        "                # print(\"{} : {} -> {} score {:.2%}\".format(diff[0], diff[1], diff[2],solution.score))\n",
        "            self.current_solution = copy.deepcopy(curr_best_sol)\n",
        "            # print(\"updated current\")\n",
        "            if curr_best_sol.score > self.best_solution.score:\n",
        "                self.best_solution = copy.deepcopy(curr_best_sol)\n",
        "                print(\"SOLUTION UPGRADED : new score of {:.2e} $\".format(self.best_solution.score))\n",
        "                no_upgrade = 0\n",
        "\n",
        "            self.curr_score.append(self.current_solution.score)\n",
        "            self.best_score.append(self.best_solution.score)\n",
        "            no_upgrade += 1\n",
        "        \n",
        "params = {\n",
        "    \"production_year_style\" : [\"per_quantile\", \"per_period_length\", \"no_period\"], # \"per_quantile\" / \"per_period_length\" / \"no_period\"\n",
        "    \"n_year_period\" : [3, 5, 10],\n",
        "    \"runtime_replace_type\" : [\"mean\", \"zero\", \"median\"], # \"mean\" / \"zero\" / \"median\"\n",
        "    \"studio_use_PCA\" : [False],\n",
        "    \"studio_PCA_dim\" : [1, 10],\n",
        "    \"text_embedding_PCA_dim\" : [1, 10, 20, 50, 100],\n",
        "    \"img_embedding_PCA_dim\" : [1, 10, 20, 50, 100]\n",
        "}\n",
        "grid_params = {\"alpha\": [1e-1, 5e-1, 1, 5, 10, 20]}\n",
        "\n",
        "regressor = Ridge()\n",
        "\n",
        "localsearch = LocalSearch(regressor, params, grid_params)\n",
        "localsearch.compute()"
      ]
    },
    {
      "cell_type": "code",
      "execution_count": 29,
      "metadata": {
        "colab": {
          "base_uri": "https://localhost:8080/"
        },
        "id": "RsShyRnFpUh7",
        "outputId": "baba049d-cf61-4ae4-b4b6-641e57d27e8a"
      },
      "outputs": [
        {
          "output_type": "stream",
          "name": "stdout",
          "text": [
            "-56480652.853553794\n",
            "{'production_year_style': 'per_quantile', 'n_year_period': 10, 'runtime_replace_type': 'zero', 'studio_use_PCA': False, 'studio_PCA_dim': 10, 'text_embedding_PCA_dim': 10, 'img_embedding_PCA_dim': 1}\n",
            "{'normalize': False}\n"
          ]
        }
      ],
      "source": [
        "print(localsearch.best_solution.score)\n",
        "print(localsearch.best_solution.params)\n",
        "print(localsearch.best_solution.grid_params)"
      ]
    },
    {
      "cell_type": "code",
      "source": [
        "import matplotlib.font_manager as font_manager\n",
        "\n",
        "current_scores = np.array(localsearch.curr_score)\n",
        "best_scores = np.array(localsearch.best_score)\n",
        "iter = np.arange(1, len(current_scores)+1)\n",
        "plt.plot(iter, -current_scores, label=\"current solution\", color=\"blue\", linestyle=\"--\")\n",
        "plt.plot(iter, -best_scores, label=\"best solution\", color=\"red\")\n",
        "title_font = font_manager.FontProperties(family=\"Liberation Serif\", size=22)\n",
        "plt.title(\"Local search score evolution\", fontproperties=title_font)\n",
        "plt.ylabel(\"avg RMSE on 5-fold\")\n",
        "plt.xlabel(\"iter\")\n",
        "plt.legend()\n",
        "plt.grid()\n",
        "plt.savefig(\"LS_Ridge_RMSE\")"
      ],
      "metadata": {
        "colab": {
          "base_uri": "https://localhost:8080/",
          "height": 299
        },
        "id": "28xo0tX_c9ob",
        "outputId": "0c66a02d-5c35-4462-8943-9b58535e94c4"
      },
      "execution_count": 66,
      "outputs": [
        {
          "output_type": "display_data",
          "data": {
            "text/plain": [
              "<Figure size 432x288 with 1 Axes>"
            ],
            "image/png": "[encoded data removed]"
          },
          "metadata": {
            "needs_background": "light"
          }
        }
      ]
    },
    {
      "cell_type": "code",
      "source": [
        "hello ?"
      ],
      "metadata": {
        "id": "wV8QK_o08KhZ",
        "colab": {
          "base_uri": "https://localhost:8080/",
          "height": 131
        },
        "outputId": "f99b581c-3ab0-46b8-9d26-7c7d49f8e8b1"
      },
      "execution_count": 30,
      "outputs": [
        {
          "output_type": "error",
          "ename": "SyntaxError",
          "evalue": "ignored",
          "traceback": [
            "\u001b[0;36m  File \u001b[0;32m\"<ipython-input-30-ab7d029e2b6f>\"\u001b[0;36m, line \u001b[0;32m1\u001b[0m\n\u001b[0;31m    hello ?\u001b[0m\n\u001b[0m          ^\u001b[0m\n\u001b[0;31mSyntaxError\u001b[0m\u001b[0;31m:\u001b[0m invalid syntax\n"
          ]
        }
      ]
    },
    {
      "cell_type": "markdown",
      "metadata": {
        "id": "yR_-tyXRpUh8"
      },
      "source": [
        "### GridSearch on RandomForestRegressor"
      ]
    },
    {
      "cell_type": "code",
      "execution_count": null,
      "metadata": {
        "id": "lBh0uEUapUh8"
      },
      "outputs": [],
      "source": [
        "## GridSearch\n",
        "# Définir les valeurs à tester pour les hyperparamètres du modèle\n",
        "params =    {\"n_estimators\": [500], \n",
        "            \"criterion\": [\"squared_error\"], # [\"squared_error\", \"absolute_error\", \"poisson\"],\n",
        "            \"max_depth\": [1],               # [None, 1, 2, 3],\n",
        "            \"min_samples_split\": [1.0],       # [1, 2, 3],\n",
        "            \"max_features\" : [\"sqrt\"],      # [\"sqrt\", \"log2\", None]\n",
        "            }\n",
        "rfr = RandomForestRegressor(n_jobs=-1,random_state=0)\n",
        "grid = perform_grid_search(rfr, params, custom_scorer, X_train, y_train)\n",
        "\n",
        "\n",
        "model = RandomForestRegressor(n_estimators = 500, \n",
        "                                criterion = \"squared_error\", # [\"squared_error\", \"absolute_error\", \"poisson\"],\n",
        "                                max_depth = 1,               # [None, 1, 2, 3],\n",
        "                                min_samples_split = 1.0,       # [1, 2, 3],\n",
        "                                max_features = \"sqrt\",      # [\"sqrt\", \"log2\", None]\n",
        "                                n_jobs=-1,\n",
        "                                random_state=0)\n",
        "model.fit(X_train, y_train)\n",
        "model.predict(X_test)\n",
        "\n",
        "# Évaluez le modèle en utilisant le scoreur personnalisé\n",
        "score = custom_scorer(model, X_test, y_test)\n",
        "print(\"\\nRMSE Score: %.2f$\" % score)\n",
        "print(\"Score: %.2f%%\" %model.score(X_test, y_test))\n",
        "\n",
        "# Évaluez le modèle en utilisant le cross_val\n",
        "rmse_score = cross_val_score(model, preprocessed_data, Y1.values.ravel(), cv=5,scoring=custom_scorer)\n",
        "cv_regressor_score = cross_val_score(model, preprocessed_data, Y1.values.ravel(), cv=5)\n",
        "print(\"\\nCV RMSE Score : %.2f$\" % np.mean(rmse_score))\n",
        "print(\"CV Score : %.2f%%\" % np.mean(cv_regressor_score))"
      ]
    },
    {
      "cell_type": "markdown",
      "metadata": {
        "id": "J2sDRKT_pUh8"
      },
      "source": [
        "### GridSearch on KNN"
      ]
    },
    {
      "cell_type": "code",
      "execution_count": null,
      "metadata": {
        "id": "7mF-uMVmpUh9"
      },
      "outputs": [],
      "source": [
        "## GridSearch\n",
        "# Définir les valeurs à tester pour les hyperparamètres du modèle\n",
        "params =    {'n_neighbors' : range(1, 50), \n",
        "            'weights' : ['uniform', 'distance']}\n",
        "knn = KNeighborsRegressor(n_jobs=-1)\n",
        "grid = perform_grid_search(knn, params, custom_scorer, X_train, y_train)\n",
        "\n",
        "# CHECK LES RESULTATS\n",
        "model = KNeighborsRegressor(n_neighbors= 43, weights= 'uniform', n_jobs=-1)\n",
        "model.fit(X_train, y_train)\n",
        "model.predict(X_test)\n",
        "\n",
        "# Évaluez le modèle en utilisant le scoreur personnalisé\n",
        "score = custom_scorer(model, X_test, y_test)\n",
        "print(\"RMSE Score: %.2f$\" % score)\n",
        "print(\"Score: %.2f%%\" %model.score(X_test, y_test))\n",
        "\n",
        "# Évaluez le modèle en utilisant le cross_val\n",
        "rmse_score = cross_val_score(model, preprocessed_data, Y1.values.ravel(), cv=5,scoring=custom_scorer)\n",
        "knn_regressor_score = cross_val_score(model, preprocessed_data, Y1.values.ravel(), cv=5)\n",
        "print(\"\\nCV RMSE Score : %.2f$\" % np.mean(rmse_score))\n",
        "print(\"CV Score : %.2f%%\" % np.mean(knn_regressor_score))"
      ]
    },
    {
      "cell_type": "markdown",
      "metadata": {
        "id": "qmi0SQeRpUh9"
      },
      "source": [
        "### Grid on MLP"
      ]
    },
    {
      "cell_type": "code",
      "execution_count": null,
      "metadata": {
        "id": "Ccg4W3C8pUh9"
      },
      "outputs": [],
      "source": [
        "from sklearn.neural_network import MLPRegressor\n",
        "\n",
        "params =    {'hidden_layer_sizes' : [(50,50,50), (100,5), (100,)],\n",
        "            'activation' : ['relu'],\n",
        "            'solver': ['adam'],\n",
        "            'alpha' : np.linspace(0.0001, 0.001, 10, endpoint = True),\n",
        "            'learning_rate_init': [0.001, 0.01, 0.1],\n",
        "            'max_iter': [500]}\n",
        "model = MLPRegressor(random_state=0)\n",
        "\n",
        "grid = perform_grid_search(model, params, custom_scorer, X_train, y_train)"
      ]
    },
    {
      "cell_type": "markdown",
      "metadata": {
        "id": "1roSalHrpUh-"
      },
      "source": [
        "### Training on MLP"
      ]
    },
    {
      "cell_type": "code",
      "execution_count": null,
      "metadata": {
        "id": "YIJIfZPmpUh-"
      },
      "outputs": [],
      "source": [
        "model = MLPRegressor(activation = 'relu', \n",
        "                    alpha = 0.0007, \n",
        "                    hidden_layer_sizes = (50, 50, 50), \n",
        "                    learning_rate_init = 0.1, \n",
        "                    max_iter = 500, \n",
        "                    solver = 'adam',\n",
        "                    random_state=0)\n",
        "\n",
        "model.fit(X_train, y_train)\n",
        "model.predict(X_test)\n",
        "\n",
        "# Évaluez le modèle en utilisant le scoreur personnalisé\n",
        "score = custom_scorer(model, X_test, y_test)\n",
        "print(\"RMSE Score: %.2f$\" % score)\n",
        "print(\"Score: %.2f%%\" % model.score(X_test, y_test))\n",
        "\n",
        "# Évaluez le modèle en utilisant le cross_val\n",
        "rmse_score = cross_val_score(model, preprocessed_data, Y1.values.ravel(), cv=5,scoring=custom_scorer)\n",
        "mlp_regressor_score = cross_val_score(model, preprocessed_data, Y1.values.ravel(), cv=5)\n",
        "print(\"\\nCV RMSE Score : %.2e$\" % np.mean(rmse_score))\n",
        "print(\"CV Score : %.2f%%\" % np.mean(mlp_regressor_score))"
      ]
    },
    {
      "cell_type": "code",
      "execution_count": null,
      "metadata": {
        "id": "f2eeB4utpUh-"
      },
      "outputs": [],
      "source": [
        "# Score for each training subset\n",
        "N, train_score, val_score = learning_curve(model, X_train, y_train, cv=5)\n",
        "\n",
        "plt.plot(N, train_score.mean(axis=1), label='train')\n",
        "plt.plot(N, val_score.mean(axis=1), label='validation')\n",
        "plt.xlabel(\"train size\")\n",
        "plt.legend()\n",
        "plt.show()"
      ]
    },
    {
      "cell_type": "code",
      "execution_count": null,
      "metadata": {
        "id": "08a_S2chpUh_"
      },
      "outputs": [],
      "source": [
        "# Evaluation metrics from the gridsearch\n",
        "res = pd.DataFrame(grid.cv_results_.values(), ).transpose()\n",
        "res.columns=grid.cv_results_.keys()\n",
        "res"
      ]
    },
    {
      "cell_type": "markdown",
      "metadata": {
        "id": "mZc6SCiUpkuT"
      },
      "source": [
        "## Neural network creation"
      ]
    },
    {
      "cell_type": "code",
      "execution_count": null,
      "metadata": {
        "id": "4GF0I48Upj81"
      },
      "outputs": [],
      "source": [
        "X_train, X_test, y_train, y_test = train_test_split(create_preprocessed(localsearch.best_solution.params), Y1, test_size=0.2)\n"
      ]
    },
    {
      "cell_type": "code",
      "execution_count": null,
      "metadata": {
        "id": "dt8bVrVRpajK"
      },
      "outputs": [],
      "source": [
        "import torch\n",
        "\n",
        "# Define the number of inputs and outputs\n",
        "input_size = len(X_train.columns)\n",
        "output_size = 1\n",
        "\n",
        "# Define the number of hidden layers and the size of each layer\n",
        "num_hidden_layers = 2\n",
        "hidden_layer_size = 100\n",
        "\n",
        "# Check if a GPU is available\n",
        "device = torch.device(\"cuda\" if torch.cuda.is_available() else \"cpu\")\n",
        "\n",
        "# Define the MLP model\n",
        "model = torch.nn.Sequential(\n",
        "    torch.nn.Linear(input_size, hidden_layer_size),\n",
        "    torch.nn.LeakyReLU(0.2),\n",
        "    torch.nn.Linear(hidden_layer_size, output_size)\n",
        ").to(device)\n",
        "\n",
        "model = model.double()\n",
        "\n",
        "# Define the loss function and the optimizer\n",
        "loss_fn = torch.nn.MSELoss()\n",
        "\n",
        "lr = 1e-3\n",
        "betas = (0.9, 0.999)\n",
        "optimizer = torch.optim.Adam(model.parameters(), lr=lr, betas=betas)\n",
        "\n",
        "# Define the number of epochs\n",
        "num_epochs = 10\n",
        "\n",
        "# Get the inputs and outputs as numpy arrays\n",
        "inputs = X_train.to_numpy()\n",
        "targets = y_train.to_numpy()\n",
        "\n",
        "# Convert the inputs and targets to PyTorch tensors\n",
        "inputs = torch.from_numpy(inputs).to(device).double()\n",
        "targets = torch.from_numpy(targets).to(device).double()\n",
        "\n",
        "\n",
        "\n",
        "\n",
        "# Train the model on a dataset of input-output pairs\n",
        "for epoch in range(num_epochs):\n",
        "    train_loss = []\n",
        "\n",
        "    # Split the dataset into batches of the specified size\n",
        "    for i in range(0, len(inputs)):\n",
        "        # Get the inputs and targets for the current batch\n",
        "        batch_inputs = inputs[i]\n",
        "        batch_targets = targets[i]\n",
        "\n",
        "        # Forward pass: compute predicted outputs by passing inputs to the model\n",
        "        outputs = model.forward(batch_inputs)\n",
        "\n",
        "        # Compute and print the loss\n",
        "        loss = loss_fn(outputs, batch_targets)\n",
        "\n",
        "        # Add the loss to the list of train losses\n",
        "        train_loss.append(loss)\n",
        "\n",
        "        # Zero the gradients before running the backward pass\n",
        "        optimizer.zero_grad()\n",
        "\n",
        "        # Backward pass: compute gradient of the loss with respect to the model parameters\n",
        "        loss.backward()\n",
        "\n",
        "        # Call the optimizer to update the model parameters\n",
        "        optimizer.step()\n",
        "\n",
        "    # Print the average train loss for the current epoch\n",
        "    print(f\"Epoch {epoch+1}: Train Loss = {torch.sqrt(sum(train_loss)/len(train_loss))}\")"
      ]
    },
    {
      "cell_type": "code",
      "execution_count": null,
      "metadata": {
        "id": "Ge9lZzygvmMh"
      },
      "outputs": [],
      "source": [
        "inputs_test = X_test.to_numpy()\n",
        "inputs_test = torch.from_numpy(inputs_test).to(device).double()\n",
        "targets_test = y_test.to_numpy()\n",
        "targets_test = torch.from_numpy(targets_test).to(device).double()\n",
        "\n",
        "outputs_test = model.forward(inputs_test)\n",
        "outputs_test = outputs_test.cpu().detach().numpy()\n",
        "print(\"{:.2e} is the final error\".format(compute_rmse(outputs_test, y_test)))"
      ]
    }
  ],
  "metadata": {
    "colab": {
      "provenance": []
    },
    "gpuClass": "standard",
    "kernelspec": {
      "display_name": "Python 3 (ipykernel)",
      "language": "python",
      "name": "python3"
    },
    "language_info": {
      "codemirror_mode": {
        "name": "ipython",
        "version": 3
      },
      "file_extension": ".py",
      "mimetype": "text/x-python",
      "name": "python",
      "nbconvert_exporter": "python",
      "pygments_lexer": "ipython3",
      "version": "3.9.12"
    },
    "vscode": {
      "interpreter": {
        "hash": "9abed8abd2ce500fe15b078df5e406127fe6c9e241ddd0cff9b21749bf3b9f14"
      }
    }
  },
  "nbformat": 4,
  "nbformat_minor": 0
}