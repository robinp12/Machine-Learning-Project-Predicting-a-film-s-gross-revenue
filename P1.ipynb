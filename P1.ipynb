{
 "cells": [
  {
   "cell_type": "markdown",
   "metadata": {},
   "source": [
    "## Import datas"
   ]
  },
  {
   "cell_type": "code",
   "execution_count": 20,
   "metadata": {},
   "outputs": [],
   "source": [
    "import pandas as pd\n",
    "from sklearn.model_selection import train_test_split, learning_curve, GridSearchCV\n",
    "from sklearn.linear_model import LinearRegression\n",
    "from sklearn.decomposition import PCA\n",
    "from sklearn.neighbors import KNeighborsRegressor\n",
    "from sklearn.metrics import mean_squared_error\n",
    "from scipy import stats\n",
    "\n",
    "import matplotlib.pyplot as plt\n",
    "import numpy as np\n",
    "import seaborn as sns"
   ]
  },
  {
   "cell_type": "code",
   "execution_count": 2,
   "metadata": {},
   "outputs": [],
   "source": [
    "# Use pandas to loadinto a DataFrame\n",
    "# Y1.csv doesn’t have a header so\n",
    "# add one when loading the file\n",
    "X1 = pd.read_csv(\"data/X1.csv\")\n",
    "Y1 = pd.read_csv(\"data/Y1.csv\", header=None, names=['revenue'])\n",
    "\n",
    "\n",
    "# ENLEVER colonne \"Unnamed\" du dataset : utilité ? -> Pas listé dans les features du pdf\n",
    "X = X1.drop(['Unnamed: 0', 'img_url', 'description'], axis=1)"
   ]
  },
  {
   "cell_type": "markdown",
   "metadata": {},
   "source": [
    "### Pre data visualisation"
   ]
  },
  {
   "cell_type": "code",
   "execution_count": 3,
   "metadata": {},
   "outputs": [
    {
     "name": "stdout",
     "output_type": "stream",
     "text": [
      "           ratings       n_votes  is_adult  production_year  release_year\n",
      "count  3540.000000  3.540000e+03    3540.0      3540.000000   3540.000000\n",
      "mean      6.426582  2.337422e+04       0.0      1996.867232   2001.375706\n",
      "std       1.166002  8.597705e+04       0.0        11.818582      9.236620\n",
      "min       1.100000  5.000000e+00       0.0      1916.000000   1941.000000\n",
      "25%       5.800000  1.577500e+02       0.0      1992.000000   1996.000000\n",
      "50%       6.500000  1.412000e+03       0.0      2000.000000   2003.000000\n",
      "75%       7.200000  9.424500e+03       0.0      2005.000000   2007.000000\n",
      "max      10.000000  2.332286e+06       0.0      2019.000000   2018.000000\n"
     ]
    },
    {
     "data": {
      "image/png": "[encoded data removed]",
      "text/plain": [
       "<Figure size 504x288 with 2 Axes>"
      ]
     },
     "metadata": {
      "needs_background": "light"
     },
     "output_type": "display_data"
    }
   ],
   "source": [
    "print(X.describe())\n",
    "\n",
    "plt.figure(figsize=(7,4))\n",
    "corr = X.corr()\n",
    "heatmap = sns.heatmap(corr, annot=True, cmap=\"coolwarm\", fmt='.1g')"
   ]
  },
  {
   "cell_type": "markdown",
   "metadata": {},
   "source": [
    "## Preprocessing the data\n",
    "### Preprocessing functions"
   ]
  },
  {
   "cell_type": "code",
   "execution_count": 4,
   "metadata": {},
   "outputs": [],
   "source": [
    "\"\"\"\n",
    "Creating empty DataFrame to start\n",
    "\"\"\"\n",
    "n_samples = X.shape[0]\n",
    "data = pd.DataFrame()"
   ]
  },
  {
   "cell_type": "code",
   "execution_count": 5,
   "metadata": {},
   "outputs": [],
   "source": [
    "\"\"\"\n",
    "Keeping the directly usable features\n",
    "\"\"\"\n",
    "def get_directrly_usable_features(df):\n",
    "    directly_usable_features = [\"ratings\", \"n_votes\", \"is_adult\"]\n",
    "    for feature in directly_usable_features:\n",
    "        df[feature] = X[feature]\n",
    "    return df"
   ]
  },
  {
   "cell_type": "code",
   "execution_count": 6,
   "metadata": {
    "scrolled": false
   },
   "outputs": [],
   "source": [
    "\"\"\"\n",
    "Dealing with the \"production_year\" feature\n",
    "\"\"\"\n",
    "\n",
    "def get_prod_year_feature(df, params):\n",
    "    \n",
    "    style = params[\"production_year_style\"] # \"per_quantile\" / \"per_period_length\" / \"no_period\"\n",
    "    if style != \"no_period\" :\n",
    "        n_year_period = params[\"n_year_period\"]\n",
    "\n",
    "    # Removing previously computed categorie(s) for the \"production_year\" initial feature\n",
    "\n",
    "    for feature in df.columns:\n",
    "        if len(feature) >= 8 and (feature[:6] == \"period\" or feature == \"production_year\"):\n",
    "            df.drop(feature, axis=1, inplace=True)\n",
    "\n",
    "    # Creating new categorie(s) for the \"production_year\" initial feature\n",
    "\n",
    "    prod_year = X[\"production_year\"].copy()\n",
    "    if style == \"per_quantile\" or style == \"per_period_length\":\n",
    "        categories = np.ones((n_year_period, n_samples))\n",
    "\n",
    "        if style == \"per_quantile\":\n",
    "            thresholds = prod_year.quantile(np.arange(1, n_year_period) / n_year_period)\n",
    "        else :\n",
    "            thresholds = np.min(prod_year) + (np.max(prod_year) - np.min(prod_year))*np.arange(1, n_year_period)/n_year_period\n",
    "        for i, threshold in enumerate(thresholds):\n",
    "            categories[i+1] = (prod_year >= threshold).astype(int)\n",
    "            categories[i] -= categories[i+1]\n",
    "        for period in range(n_year_period):\n",
    "            df[\"period {}\".format(period)] = categories[period]\n",
    "    elif style == \"no_period\":\n",
    "        df[\"production_year\"] = prod_year\n",
    "    return df"
   ]
  },
  {
   "cell_type": "code",
   "execution_count": 7,
   "metadata": {},
   "outputs": [],
   "source": [
    "\"\"\"\n",
    "Dealing with the \"runtime\" feature\n",
    "\n",
    "The problem is here that we have some missing values, we have to deal with it.\n",
    "\"\"\"\n",
    "\n",
    "def get_runtime_feature(df, params):\n",
    "\n",
    "    # Add other smarter ways ?\n",
    "    \n",
    "    replace_type = params[\"runtime_replace_type\"] # \"zero\" / \"mean\"\n",
    "    \n",
    "    runtime = X[\"runtime\"].copy()\n",
    "    if replace_type == \"zero\":\n",
    "        runtime[runtime == \"\\\\N\"] = 0\n",
    "    if replace_type == \"mean\":\n",
    "        mean = np.mean(runtime[runtime != \"\\\\N\"].astype(float))\n",
    "        runtime[runtime == \"\\\\N\"] = mean\n",
    "    df[\"runtime\"] = runtime.astype(float)    \n",
    "    return df"
   ]
  },
  {
   "cell_type": "code",
   "execution_count": 8,
   "metadata": {},
   "outputs": [],
   "source": [
    "\"\"\"\n",
    "Dealing with the \"studio\" feature\n",
    "\n",
    "\n",
    "Juste rajouter toute les features une par une me semblait un peu lourd (yen a 509), ducoup j'effectue PCA dessus.\n",
    "Jsp si ça se fait ? (on peut changer l'algo de dimensionality reduction aussi si on veut)\n",
    "\"\"\"\n",
    "\n",
    "def get_studio_feature(df, params):\n",
    "    \n",
    "    \n",
    "    use_PCA = params[\"studio_use_PCA\"]\n",
    "    if use_PCA :\n",
    "        dim = params[\"studio_PCA_dim\"]\n",
    "\n",
    "\n",
    "    # Removing previously computed categorie(s) for the \"studio\" initial feature\n",
    "    for feature in df.columns:\n",
    "        if len(feature) >= 10 and feature[:10] == \"studio_PC_\":\n",
    "            df.drop(feature, axis=1, inplace=True)\n",
    "\n",
    "    # Creating new categorie(s) for the \"studio\" initial feature\n",
    "    studio = X[\"studio\"].copy()\n",
    "    studio_labels = np.unique(studio)\n",
    "    studio_features = np.zeros((len(studio_labels), n_samples))\n",
    "    for i, label in enumerate(studio_labels) :\n",
    "        studio_features[i] = (studio == label).astype(int)\n",
    "\n",
    "    # Applying pca or not\n",
    "    if use_PCA :\n",
    "        pca = PCA(n_components=dim)\n",
    "        out = pca.fit_transform(studio_features.T)\n",
    "    else :\n",
    "        out = studio_features.T\n",
    "\n",
    "    df[[\"studio_PC_{}\".format(i) for i in range(dim)]] = out\n",
    "    return df\n",
    "\n",
    "# Ya plein de warnings quand dim trop grand ou pas de PCA /: \n",
    "# jsp comment regler ça... en utilisant pd.concat ça tourne vraiment extrêmement lentement"
   ]
  },
  {
   "cell_type": "code",
   "execution_count": 9,
   "metadata": {},
   "outputs": [],
   "source": [
    "\"\"\"\n",
    "Dealing with the \"genres\" feature\n",
    "\n",
    "Je rajoute juste une feature par genre, j'espère ça suffit ? -> pt-être dimension reduction sur ça aussi ?\n",
    "Certains films ont pas de genre attitré (genre = \"\\\\N\"),\n",
    "ce que j'ai fait ici considère ça comme un genre à part entière, ptet on peut deal le truc autrement ?\n",
    "\"\"\"\n",
    "\n",
    "def get_genre_feature(df):\n",
    "\n",
    "    X.loc[X[\"genres\"] == \"\\\\N\", \"genres\"] = \"Others\"\n",
    "    all_genres = X[\"genres\"].copy()\n",
    "    diff_genres = []\n",
    "\n",
    "    for genres in np.unique(all_genres):\n",
    "        for genre in genres.split(\",\") :\n",
    "            if not genre in diff_genres :\n",
    "                diff_genres.append(genre)\n",
    "\n",
    "    for genre in diff_genres:\n",
    "        df[genre] = [1 if genre in genres.split(\",\") else 0 for genres in all_genres]  \n",
    "    return df"
   ]
  },
  {
   "cell_type": "code",
   "execution_count": 10,
   "metadata": {},
   "outputs": [],
   "source": [
    "\"\"\"\n",
    "Dealing with the \"text_embeddings\" feature\n",
    "\n",
    "\n",
    "Dimension of embedding space is too high -> dimensionnality reduction\n",
    "J'utilise que PCA pr l'instant ici aussi\n",
    "\"\"\"\n",
    "def get_text_embedding_feature(df, params):\n",
    "    \n",
    "    output_dim = params[\"text_embedding_PCA_dim\"] # output dimension of PCA\n",
    "\n",
    "    # Removing previously computed categorie(s) for the \"text_embedding\" initial feature\n",
    "    for feature in df.columns:\n",
    "        if len(feature) >= 18 and feature[:18] == \"text_embedding_PC_\":\n",
    "            df.drop(feature, axis=1, inplace=True)\n",
    "\n",
    "    # Creating new categorie(s) for the \"text_embedding\" initial feature\n",
    "    text_embeddings = X[\"text_embeddings\"]\n",
    "    input_dim = 768\n",
    "    embeddings = np.zeros((n_samples, input_dim))\n",
    "    for i, text_embedding in enumerate(text_embeddings):\n",
    "        embeddings[i] = list(map(float,text_embedding[1:-1].split(\",\")))\n",
    "\n",
    "    # applying PCA\n",
    "    pca = PCA(n_components=output_dim)\n",
    "    output = pca.fit_transform(embeddings)\n",
    "\n",
    "    df[[\"text_embedding_PC_{}\".format(i) for i in range(output_dim)]] = output\n",
    "    return df"
   ]
  },
  {
   "cell_type": "code",
   "execution_count": 11,
   "metadata": {},
   "outputs": [],
   "source": [
    "\"\"\"\n",
    "Dealing with the \"img_embeddings\" feature\n",
    "\n",
    "\n",
    "Dimension of embedding space is too high -> dimensionnality reduction\n",
    "J'utilise que PCA pr l'instant ici aussi\n",
    "\"\"\"\n",
    "def get_img_embedding_feature(df, params):\n",
    "    output_dim = params[\"img_embedding_PCA_dim\"] # output dimension of PCA\n",
    "\n",
    "    # Removing previously computed categorie(s) for the \"img_embedding\" initial feature\n",
    "    for feature in df.columns:\n",
    "        if len(feature) >= 17 and feature[:17] == \"img_embedding_PC_\":\n",
    "            df.drop(feature, axis=1, inplace=True)\n",
    "\n",
    "    # Creating new categorie(s) for the \"img_embedding\" initial feature\n",
    "    img_embeddings = X[\"img_embeddings\"]\n",
    "    input_dim = 2048\n",
    "    embeddings = np.zeros((n_samples, input_dim))\n",
    "    for i, img_embedding in enumerate(img_embeddings):\n",
    "        embeddings[i] = list(map(float,img_embedding[1:-1].split(\",\")))\n",
    "\n",
    "    # applying PCA\n",
    "    pca = PCA(n_components=output_dim)\n",
    "    output = pca.fit_transform(embeddings)\n",
    "\n",
    "    df[[\"img_embedding_PC_{}\".format(i) for i in range(output_dim)]] = output\n",
    "    return df"
   ]
  },
  {
   "cell_type": "code",
   "execution_count": 12,
   "metadata": {},
   "outputs": [],
   "source": [
    "def create_preprocessed(params):\n",
    "    df = pd.DataFrame()\n",
    "    df = get_directrly_usable_features(df)\n",
    "    df = get_genre_feature(df)\n",
    "    df = get_img_embedding_feature(df, params)\n",
    "    df = get_prod_year_feature(df, params)\n",
    "    df = get_runtime_feature(df, params)\n",
    "    df = get_studio_feature(df, params)\n",
    "    df = get_text_embedding_feature(df, params)\n",
    "    return df"
   ]
  },
  {
   "cell_type": "markdown",
   "metadata": {},
   "source": [
    "### Preprocessing execution"
   ]
  },
  {
   "cell_type": "code",
   "execution_count": 13,
   "metadata": {},
   "outputs": [],
   "source": [
    "\"\"\"\n",
    "Example of data preprocessing\n",
    "\"\"\"\n",
    "\n",
    "params = {\n",
    "    \"production_year_style\" : \"per_quantile\", # \"per_quantile\" / \"per_period_length\" / \"no_period\"\n",
    "    \"n_year_period\" : 5,\n",
    "    \"runtime_replace_type\" : \"mean\", # \"mean\" / \"zero\"\n",
    "    \"studio_use_PCA\" : True,\n",
    "    \"studio_PCA_dim\" : 20,\n",
    "    \"text_embedding_PCA_dim\" : 20,\n",
    "    \"img_embedding_PCA_dim\" : 20\n",
    "}\n",
    "\n",
    "preprocessed_data = create_preprocessed(params)"
   ]
  },
  {
   "cell_type": "code",
   "execution_count": 14,
   "metadata": {},
   "outputs": [
    {
     "data": {
      "text/html": [
       "<div>\n",
       "<style scoped>\n",
       "    .dataframe tbody tr th:only-of-type {\n",
       "        vertical-align: middle;\n",
       "    }\n",
       "\n",
       "    .dataframe tbody tr th {\n",
       "        vertical-align: top;\n",
       "    }\n",
       "\n",
       "    .dataframe thead th {\n",
       "        text-align: right;\n",
       "    }\n",
       "</style>\n",
       "<table border=\"1\" class=\"dataframe\">\n",
       "  <thead>\n",
       "    <tr style=\"text-align: right;\">\n",
       "      <th></th>\n",
       "      <th>ratings</th>\n",
       "      <th>n_votes</th>\n",
       "      <th>is_adult</th>\n",
       "      <th>Action</th>\n",
       "      <th>Adventure</th>\n",
       "      <th>Animation</th>\n",
       "      <th>Comedy</th>\n",
       "      <th>Crime</th>\n",
       "      <th>Documentary</th>\n",
       "      <th>Drama</th>\n",
       "      <th>...</th>\n",
       "      <th>text_embedding_PC_10</th>\n",
       "      <th>text_embedding_PC_11</th>\n",
       "      <th>text_embedding_PC_12</th>\n",
       "      <th>text_embedding_PC_13</th>\n",
       "      <th>text_embedding_PC_14</th>\n",
       "      <th>text_embedding_PC_15</th>\n",
       "      <th>text_embedding_PC_16</th>\n",
       "      <th>text_embedding_PC_17</th>\n",
       "      <th>text_embedding_PC_18</th>\n",
       "      <th>text_embedding_PC_19</th>\n",
       "    </tr>\n",
       "  </thead>\n",
       "  <tbody>\n",
       "    <tr>\n",
       "      <th>0</th>\n",
       "      <td>6.5</td>\n",
       "      <td>92937.0</td>\n",
       "      <td>0</td>\n",
       "      <td>0</td>\n",
       "      <td>1</td>\n",
       "      <td>0</td>\n",
       "      <td>1</td>\n",
       "      <td>0</td>\n",
       "      <td>0</td>\n",
       "      <td>1</td>\n",
       "      <td>...</td>\n",
       "      <td>0.130549</td>\n",
       "      <td>0.023037</td>\n",
       "      <td>-0.151475</td>\n",
       "      <td>0.329873</td>\n",
       "      <td>0.011559</td>\n",
       "      <td>-0.129562</td>\n",
       "      <td>0.053688</td>\n",
       "      <td>0.242317</td>\n",
       "      <td>0.301644</td>\n",
       "      <td>0.010631</td>\n",
       "    </tr>\n",
       "    <tr>\n",
       "      <th>1</th>\n",
       "      <td>7.9</td>\n",
       "      <td>11.0</td>\n",
       "      <td>0</td>\n",
       "      <td>1</td>\n",
       "      <td>0</td>\n",
       "      <td>0</td>\n",
       "      <td>0</td>\n",
       "      <td>1</td>\n",
       "      <td>0</td>\n",
       "      <td>1</td>\n",
       "      <td>...</td>\n",
       "      <td>-0.440041</td>\n",
       "      <td>0.059061</td>\n",
       "      <td>-0.012591</td>\n",
       "      <td>-0.057540</td>\n",
       "      <td>-0.040929</td>\n",
       "      <td>0.206975</td>\n",
       "      <td>-0.035516</td>\n",
       "      <td>-0.160226</td>\n",
       "      <td>-0.113834</td>\n",
       "      <td>0.009175</td>\n",
       "    </tr>\n",
       "    <tr>\n",
       "      <th>2</th>\n",
       "      <td>5.9</td>\n",
       "      <td>1345.0</td>\n",
       "      <td>0</td>\n",
       "      <td>0</td>\n",
       "      <td>0</td>\n",
       "      <td>0</td>\n",
       "      <td>0</td>\n",
       "      <td>0</td>\n",
       "      <td>0</td>\n",
       "      <td>1</td>\n",
       "      <td>...</td>\n",
       "      <td>0.032642</td>\n",
       "      <td>-0.145988</td>\n",
       "      <td>0.096935</td>\n",
       "      <td>-0.075661</td>\n",
       "      <td>0.026845</td>\n",
       "      <td>-0.099328</td>\n",
       "      <td>0.066498</td>\n",
       "      <td>-0.188540</td>\n",
       "      <td>0.199450</td>\n",
       "      <td>0.239417</td>\n",
       "    </tr>\n",
       "    <tr>\n",
       "      <th>3</th>\n",
       "      <td>6.6</td>\n",
       "      <td>4851.0</td>\n",
       "      <td>0</td>\n",
       "      <td>0</td>\n",
       "      <td>0</td>\n",
       "      <td>0</td>\n",
       "      <td>0</td>\n",
       "      <td>0</td>\n",
       "      <td>0</td>\n",
       "      <td>1</td>\n",
       "      <td>...</td>\n",
       "      <td>-0.246043</td>\n",
       "      <td>-0.239655</td>\n",
       "      <td>0.302322</td>\n",
       "      <td>-0.105109</td>\n",
       "      <td>-0.001098</td>\n",
       "      <td>0.199951</td>\n",
       "      <td>0.045917</td>\n",
       "      <td>0.218888</td>\n",
       "      <td>-0.043802</td>\n",
       "      <td>0.268561</td>\n",
       "    </tr>\n",
       "    <tr>\n",
       "      <th>4</th>\n",
       "      <td>4.1</td>\n",
       "      <td>549.0</td>\n",
       "      <td>0</td>\n",
       "      <td>0</td>\n",
       "      <td>0</td>\n",
       "      <td>0</td>\n",
       "      <td>0</td>\n",
       "      <td>1</td>\n",
       "      <td>0</td>\n",
       "      <td>1</td>\n",
       "      <td>...</td>\n",
       "      <td>0.070067</td>\n",
       "      <td>0.119752</td>\n",
       "      <td>0.124310</td>\n",
       "      <td>-0.109835</td>\n",
       "      <td>0.131539</td>\n",
       "      <td>0.129299</td>\n",
       "      <td>-0.174014</td>\n",
       "      <td>0.017780</td>\n",
       "      <td>-0.012366</td>\n",
       "      <td>0.137461</td>\n",
       "    </tr>\n",
       "  </tbody>\n",
       "</table>\n",
       "<p>5 rows × 96 columns</p>\n",
       "</div>"
      ],
      "text/plain": [
       "   ratings  n_votes  is_adult  Action  Adventure  Animation  Comedy  Crime  \\\n",
       "0      6.5  92937.0         0       0          1          0       1      0   \n",
       "1      7.9     11.0         0       1          0          0       0      1   \n",
       "2      5.9   1345.0         0       0          0          0       0      0   \n",
       "3      6.6   4851.0         0       0          0          0       0      0   \n",
       "4      4.1    549.0         0       0          0          0       0      1   \n",
       "\n",
       "   Documentary  Drama  ...  text_embedding_PC_10  text_embedding_PC_11  \\\n",
       "0            0      1  ...              0.130549              0.023037   \n",
       "1            0      1  ...             -0.440041              0.059061   \n",
       "2            0      1  ...              0.032642             -0.145988   \n",
       "3            0      1  ...             -0.246043             -0.239655   \n",
       "4            0      1  ...              0.070067              0.119752   \n",
       "\n",
       "   text_embedding_PC_12  text_embedding_PC_13  text_embedding_PC_14  \\\n",
       "0             -0.151475              0.329873              0.011559   \n",
       "1             -0.012591             -0.057540             -0.040929   \n",
       "2              0.096935             -0.075661              0.026845   \n",
       "3              0.302322             -0.105109             -0.001098   \n",
       "4              0.124310             -0.109835              0.131539   \n",
       "\n",
       "   text_embedding_PC_15  text_embedding_PC_16  text_embedding_PC_17  \\\n",
       "0             -0.129562              0.053688              0.242317   \n",
       "1              0.206975             -0.035516             -0.160226   \n",
       "2             -0.099328              0.066498             -0.188540   \n",
       "3              0.199951              0.045917              0.218888   \n",
       "4              0.129299             -0.174014              0.017780   \n",
       "\n",
       "   text_embedding_PC_18  text_embedding_PC_19  \n",
       "0              0.301644              0.010631  \n",
       "1             -0.113834              0.009175  \n",
       "2              0.199450              0.239417  \n",
       "3             -0.043802              0.268561  \n",
       "4             -0.012366              0.137461  \n",
       "\n",
       "[5 rows x 96 columns]"
      ]
     },
     "execution_count": 14,
     "metadata": {},
     "output_type": "execute_result"
    }
   ],
   "source": [
    "preprocessed_data.head()"
   ]
  },
  {
   "cell_type": "markdown",
   "metadata": {},
   "source": [
    "### Data visualisation"
   ]
  },
  {
   "cell_type": "code",
   "execution_count": 19,
   "metadata": {},
   "outputs": [
    {
     "data": {
      "image/png": "[encoded data removed]",
      "text/plain": [
       "<Figure size 864x576 with 2 Axes>"
      ]
     },
     "metadata": {
      "needs_background": "light"
     },
     "output_type": "display_data"
    }
   ],
   "source": [
    "plt.figure(figsize=(12,8))\n",
    "corr = preprocessed_data.corr()\n",
    "\n",
    "heatmap = sns.heatmap(corr, cmap=\"coolwarm\")"
   ]
  },
  {
   "cell_type": "markdown",
   "metadata": {},
   "source": [
    "### Feature Selection\n"
   ]
  },
  {
   "cell_type": "code",
   "execution_count": 21,
   "metadata": {},
   "outputs": [],
   "source": [
    "# Creer un data training/validation splités a partir du X1 (on garde X2 pour les vrais tests) \n",
    "X_train, X_test, y_train, y_test = train_test_split(preprocessed_data, Y1, test_size = 0.2, random_state=1)"
   ]
  },
  {
   "cell_type": "code",
   "execution_count": 23,
   "metadata": {},
   "outputs": [],
   "source": [
    "# Score computation : Root Mean Square Error\n",
    "\n",
    "def compute_rmse(predict, target):\n",
    "    return mean_squared_error(predict, target, squared=False)\n",
    "\n",
    "def compute_rmse2(predict, target):\n",
    "    if len(target.shape) == 2:\n",
    "        target = target.squeeze()\n",
    "    if len(predict.shape) == 2:\n",
    "        predict = predict.squeeze()\n",
    "    diff = target - predict\n",
    "    if len(diff.shape) == 1:\n",
    "        diff = np.expand_dims(diff, axis=-1)\n",
    "    rmse = np.sqrt(diff.T@diff / diff.shape[0])\n",
    "    return float(rmse)"
   ]
  },
  {
   "cell_type": "code",
   "execution_count": 32,
   "metadata": {},
   "outputs": [],
   "source": [
    "from sklearn.feature_selection import mutual_info_regression\n",
    "scores = mutual_info_regression(X_train, np.ravel(y_train))"
   ]
  },
  {
   "cell_type": "markdown",
   "metadata": {},
   "source": [
    "### Linear Regression"
   ]
  },
  {
   "cell_type": "code",
   "execution_count": null,
   "metadata": {},
   "outputs": [],
   "source": [
    "def fit_predict_with_features(X_train,Y_train, X_test, Y_test, selected_features):\n",
    "    X_train_filtered = X_train[selected_features]\n",
    "    X_test_filtered = X_test[selected_features]\n",
    "    \n",
    "    clf = LinearRegression(n_jobs=-1)\n",
    "    clf.fit(X_train_filtered,Y_train)\n",
    "    print(clf.score(X_test_filtered, Y_test))\n",
    "    y_pred = clf.predict(X_test_filtered)\n",
    "\n",
    "    return y_pred"
   ]
  },
  {
   "cell_type": "code",
   "execution_count": null,
   "metadata": {},
   "outputs": [],
   "source": [
    "print('By selecting features')\n",
    "# Dans ce cas, on selectionne tout\n",
    "Y_pred = fit_predict_with_features(X_train,y_train, X_test, y_test, X_train.columns)\n"
   ]
  },
  {
   "cell_type": "markdown",
   "metadata": {},
   "source": [
    "### GridSearch on KNN"
   ]
  },
  {
   "cell_type": "code",
   "execution_count": null,
   "metadata": {},
   "outputs": [],
   "source": [
    "def perform_grid_search(model_, params, scoring,X_train, y_train):\n",
    "\n",
    "    clf = GridSearchCV(model_, params, cv=5, scoring=scoring, n_jobs=-1)\n",
    "    grid_result = clf.fit(X_train,y_train)\n",
    "    print(\"clf.best_score_: \", clf.best_score_)\n",
    "    print(\"clf.best_params_: \",clf.best_params_)\n",
    "    return grid_result\n",
    " \n",
    " \n",
    "# Définir les valeurs à tester pour les hyperparamètres du modèle\n",
    "params =    {'n_neighbors' : range(3, 40), \n",
    "            'weights' : ['uniform', 'distance']}\n",
    "knn = KNeighborsRegressor(n_jobs=-1)\n",
    "scoring = \"neg_mean_squared_error\"\n",
    "\n",
    "grid = perform_grid_search(knn, params, scoring, X_train, y_train)\n",
    "pred = grid.best_estimator_.predict(X_test)\n",
    "print(\"pred: \",pred.mean())\n",
    "\n",
    "print(\"Score\")\n",
    "model = grid.best_estimator_\n",
    "print(model.score(X_test,y_test))\n",
    "rmse = compute_rmse(pred, y_test)\n",
    "rmse"
   ]
  },
  {
   "cell_type": "code",
   "execution_count": null,
   "metadata": {},
   "outputs": [],
   "source": [
    "# Score for each training subset\n",
    "N, train_score, val_score = learning_curve(knn, X_train, y_train, cv=5)\n",
    "\n",
    "plt.plot(N, train_score.mean(axis=1), label='train')\n",
    "plt.plot(N, val_score.mean(axis=1), label='validation')\n",
    "plt.xlabel(\"train size\")\n",
    "plt.legend()\n",
    "plt.show()"
   ]
  },
  {
   "cell_type": "code",
   "execution_count": null,
   "metadata": {},
   "outputs": [],
   "source": [
    "# Evaluation metrics from the gridsearch\n",
    "res = pd.DataFrame(grid.cv_results_.values(), ).transpose()\n",
    "res.columns=grid.cv_results_.keys()\n",
    "res"
   ]
  }
 ],
 "metadata": {
  "kernelspec": {
   "display_name": "Python 3 (ipykernel)",
   "language": "python",
   "name": "python3"
  },
  "language_info": {
   "codemirror_mode": {
    "name": "ipython",
    "version": 3
   },
   "file_extension": ".py",
   "mimetype": "text/x-python",
   "name": "python",
   "nbconvert_exporter": "python",
   "pygments_lexer": "ipython3",
   "version": "3.9.12"
  },
  "vscode": {
   "interpreter": {
    "hash": "9abed8abd2ce500fe15b078df5e406127fe6c9e241ddd0cff9b21749bf3b9f14"
   }
  }
 },
 "nbformat": 4,
 "nbformat_minor": 2
}
